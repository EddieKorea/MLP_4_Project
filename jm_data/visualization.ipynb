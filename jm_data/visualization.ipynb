{
 "cells": [
  {
   "cell_type": "code",
   "execution_count": null,
   "outputs": [],
   "source": [
    "import pandas as pd\n",
    "import matplotlib.pyplot as plt\n"
   ],
   "metadata": {
    "collapsed": false,
    "pycharm": {
     "name": "#%%\n"
    }
   }
  },
  {
   "cell_type": "markdown",
   "source": [
    "### 전체대학 중 부실대학의 비율 표시"
   ],
   "metadata": {
    "collapsed": false,
    "pycharm": {
     "name": "#%% md\n"
    }
   }
  },
  {
   "cell_type": "code",
   "execution_count": 6,
   "outputs": [],
   "source": [
    "import platform\n",
    "from matplotlib import font_manager, rc\n",
    "plt.rcParams['axes.unicode_minus'] = False\n",
    "\n",
    "if platform.system() == 'Windows':\n",
    "    path = 'c:/Windows/Fonts/malgun.ttf'\n",
    "    font_name = font_manager.FontProperties(fname=path).get_name()\n",
    "    rc('font', family=font_name)"
   ],
   "metadata": {
    "collapsed": false,
    "pycharm": {
     "name": "#%%\n"
    }
   }
  },
  {
   "cell_type": "code",
   "execution_count": 9,
   "outputs": [
    {
     "name": "stdout",
     "output_type": "stream",
     "text": [
      "      신입생 기준 미달대학  재학생 기준 미달대학\n",
      "2019     0.171429     0.143969\n",
      "2020     0.184426     0.122530\n",
      "2021     0.391837     0.151093\n"
     ]
    },
    {
     "data": {
      "text/plain": "<matplotlib.legend.Legend at 0x1b9811cf3a0>"
     },
     "execution_count": 9,
     "metadata": {},
     "output_type": "execute_result"
    },
    {
     "data": {
      "text/plain": "<Figure size 432x288 with 1 Axes>",
      "image/png": "[encoded data removed]"
     },
     "metadata": {
      "needs_background": "light"
     },
     "output_type": "display_data"
    }
   ],
   "source": [
    "rate_df = pd.read_csv('./data/under_rate.csv', index_col=0)\n",
    "print(rate_df)\n",
    "\n",
    "plt.plot(rate_df.index, rate_df.values, label=['신입생', '재학생'])\n",
    "plt.xlabel('년도')\n",
    "plt.ylabel('전체대학 중 미달대학 비율')\n",
    "plt.legend(loc='best')"
   ],
   "metadata": {
    "collapsed": false,
    "pycharm": {
     "name": "#%%\n"
    }
   }
  },
  {
   "cell_type": "markdown",
   "source": [
    "### 미달대학교(전체) 충원율 평균(신입생)"
   ],
   "metadata": {
    "collapsed": false,
    "pycharm": {
     "name": "#%% md\n"
    }
   }
  },
  {
   "cell_type": "code",
   "execution_count": 21,
   "outputs": [
    {
     "name": "stdout",
     "output_type": "stream",
     "text": [
      "[67.66190476190476, 69.21111111111111, 74.10520833333334]\n"
     ]
    }
   ],
   "source": [
    "datas = ['uni_freshman_2019', 'uni_freshman_2020', 'uni_freshman_2021']\n",
    "recruit_rate_mean = []\n",
    "\n",
    "for data in datas:\n",
    "    freshman_df = pd.read_csv(f'./data/under_{data}.csv', index_col=0)\n",
    "    recruit_df = freshman_df['정원내 신입생 충원율(정원내 입학자/정원내 모집인원)']\n",
    "    recruit_rate_mean.append(recruit_df.mean())\n",
    "print(recruit_rate_mean)"
   ],
   "metadata": {
    "collapsed": false,
    "pycharm": {
     "name": "#%%\n"
    }
   }
  },
  {
   "cell_type": "markdown",
   "source": [
    "이거 구해봤는데 오히려 충원율 자체는 높아지더라고요...? 그래서 사용하기는 조금 어려울 것 같습니다. 여기서 멈춰놓을께요\n",
    "\n",
    "만약 그래도 쓴다고 하면 금방 구할 수 있습니다!"
   ],
   "metadata": {
    "collapsed": false,
    "pycharm": {
     "name": "#%% md\n"
    }
   }
  },
  {
   "cell_type": "markdown",
   "source": [
    "### 미달대학교(리스트 중에서) 충원율 평균(신입생)"
   ],
   "metadata": {
    "collapsed": false
   }
  },
  {
   "cell_type": "code",
   "execution_count": 70,
   "outputs": [
    {
     "name": "stdout",
     "output_type": "stream",
     "text": [
      "['서울기독대학교', '예원예술대학교', '경주대학교', '금강대학교', '대구예술대학교', '신경대학교', '제주국제대학교', '한국국제대학교', '한려대학교', '두원공대학교', '부산과학기술대학교', '서라벌대학교', '강원관광대학교', '고구려대학교', '광양보건대학교', '대덕대학교', '영남외국어대학교', '웅지세무대학교']\n"
     ]
    }
   ],
   "source": [
    "datas = ['uni_freshman_2019', 'uni_freshman_2020', 'uni_freshman_2021']\n",
    "recruit_rate_mean = []\n",
    "raw_univ = '서울기독대학교 예원예술대학교 경주대학교 금강대학교 대구예술대학교 신경대학교  제주국제대학교  한국국제대학교  한려대학교  두원공대학교  부산과학기술대학교  서라벌대학교  강원관광대학교  고구려대학교  광양보건대학교  대덕대학교  영남외국어대학교  웅지세무대학교'\n",
    "univ_list = raw_univ.split()\n",
    "print(univ_list)"
   ],
   "metadata": {
    "collapsed": false,
    "pycharm": {
     "name": "#%%\n"
    }
   }
  },
  {
   "cell_type": "code",
   "execution_count": 71,
   "outputs": [
    {
     "name": "stdout",
     "output_type": "stream",
     "text": [
      "               학교  정원내 신입생 충원율(정원내 입학자/정원내 모집인원)\n",
      "0      가야대학교(김해)                            87.9\n",
      "1       감리교신학대학교                            95.1\n",
      "2       건양사이버대학교                            89.2\n",
      "3          경주대학교                            20.5\n",
      "4       경희사이버대학교                            71.1\n",
      "5       고려사이버대학교                            71.8\n",
      "6       광주가톨릭대학교                            72.5\n",
      "7          김천대학교                            96.6\n",
      "8      대구경북과학기술원                            89.1\n",
      "9       대구사이버대학교                            66.2\n",
      "10       대구예술대학교                            74.4\n",
      "11      대전가톨릭대학교                            30.0\n",
      "12       대전신학대학교                            28.3\n",
      "13  디지털서울문화예술대학교                            77.3\n",
      "14      부산디지털대학교                            76.3\n",
      "15       부산장신대학교                            58.0\n",
      "16   사이버한국외국어대학교                            78.7\n",
      "17       서울기독대학교                            91.9\n",
      "18      서울디지털대학교                            57.2\n",
      "19      서울사이버대학교                            68.5\n",
      "20      세종사이버대학교                            90.6\n",
      "21      수원가톨릭대학교                            36.7\n",
      "22      순복음총회신학교                            50.6\n",
      "23      숭실사이버대학교                            73.5\n",
      "24         신경대학교                            89.2\n",
      "25         아신대학교                            80.9\n",
      "26       영산선학대학교                            10.0\n",
      "27      원광디지털대학교                            86.3\n",
      "28         위덕대학교                            94.5\n",
      "29      인천가톨릭대학교                            93.8\n",
      "30          정석대학                            29.0\n",
      "31       제주국제대학교                            41.6\n",
      "32       중앙승가대학교                            29.5\n",
      "33         칼빈대학교                            95.8\n",
      "34       포항공과대학교                            96.3\n",
      "35       한국국제대학교                            42.6\n",
      "36     한국방송통신대학교                            26.0\n",
      "37      한국예술종합학교                            96.1\n",
      "38     한국침례신학대학교                            83.9\n",
      "39         한려대학교                            23.1\n",
      "40      한양사이버대학교                            88.6\n",
      "41      화신사이버대학교                            82.6\n",
      "               학교  정원내 신입생 충원율(정원내 입학자/정원내 모집인원)\n",
      "0      가야대학교(김해)                            81.8\n",
      "1       감리교신학대학교                            94.6\n",
      "2       건양사이버대학교                            80.4\n",
      "3          경남대학교                            95.8\n",
      "4          경주대학교                            25.1\n",
      "5       경희사이버대학교                            67.0\n",
      "6       고려사이버대학교                            73.3\n",
      "7       광주가톨릭대학교                            60.0\n",
      "8      글로벌사이버대학교                            85.1\n",
      "9          금강대학교                            81.8\n",
      "10         김천대학교                            95.4\n",
      "11      대구사이버대학교                            76.7\n",
      "12       대구예술대학교                            54.0\n",
      "13      대전가톨릭대학교                            35.0\n",
      "14       대전신학대학교                            50.0\n",
      "15         동신대학교                            90.6\n",
      "16         동양대학교                            96.9\n",
      "17  디지털서울문화예술대학교                            77.3\n",
      "18      부산가톨릭대학교                            96.2\n",
      "19      부산디지털대학교                            78.8\n",
      "20   사이버한국외국어대학교                            85.0\n",
      "21       서울기독대학교                            92.6\n",
      "22      서울디지털대학교                            66.2\n",
      "23      서울사이버대학교                            82.6\n",
      "24      세종사이버대학교                            86.6\n",
      "25      수원가톨릭대학교                            38.9\n",
      "26      순복음총회신학교                            20.0\n",
      "27      숭실사이버대학교                            74.8\n",
      "28         신경대학교                            65.4\n",
      "29         신라대학교                            88.3\n",
      "30         아신대학교                            81.7\n",
      "31       영산선학대학교                            12.0\n",
      "32      원광디지털대학교                            86.5\n",
      "33         유원대학교                            95.2\n",
      "34      인천가톨릭대학교                            93.8\n",
      "35          정석대학                            31.0\n",
      "36       제주국제대학교                            44.3\n",
      "37       중앙승가대학교                            27.0\n",
      "38         청운대학교                            94.8\n",
      "39       한국국제대학교                            32.5\n",
      "40     한국방송통신대학교                            24.0\n",
      "41      한국예술종합학교                            95.7\n",
      "42     한국침례신학대학교                            78.8\n",
      "43         한려대학교                            37.6\n",
      "44      한양사이버대학교                            83.4\n",
      "            학교  정원내 신입생 충원율(정원내 입학자/정원내 모집인원)\n",
      "0   가야대학교(김해)                            80.7\n",
      "1    가톨릭관동대학교                            73.7\n",
      "2   가톨릭꽃동네대학교                            95.4\n",
      "3    감리교신학대학교                            70.4\n",
      "4     강릉원주대학교                            90.7\n",
      "..         ...                            ...\n",
      "91    한일장신대학교                            90.0\n",
      "92      호남대학교                            90.5\n",
      "93    호남신학대학교                            95.6\n",
      "94      호서대학교                            96.8\n",
      "95      호원대학교                            84.9\n",
      "\n",
      "[96 rows x 2 columns]\n"
     ]
    }
   ],
   "source": [
    "\n",
    "for data in datas:\n",
    "    freshman_df = pd.read_csv(f'./data/under_{data}.csv', index_col=0)\n",
    "    recruit_df = freshman_df[['학교', '정원내 신입생 충원율(정원내 입학자/정원내 모집인원)']]\n",
    "    # recruit_df = recruit_df.set_index('학교')\n",
    "    print(recruit_df)\n",
    "\n",
    "    print(recruit_df[\"학교\"].isin(univ_list))\n",
    "    under_univ = recruit_df[recruit_df[\"학교\"].isin(univ_list)]\n",
    "    print(under_univ)"
   ],
   "metadata": {
    "collapsed": false,
    "pycharm": {
     "name": "#%%\n"
    }
   }
  },
  {
   "cell_type": "code",
   "execution_count": null,
   "outputs": [],
   "source": [],
   "metadata": {
    "collapsed": false,
    "pycharm": {
     "name": "#%%\n"
    }
   }
  },
  {
   "cell_type": "markdown",
   "source": [
    "지금 리스트에서 없는 대학교들이 많아서 대학교 리스트들이 수정이 되어야 할 것 같아요ㅠㅠㅠ"
   ],
   "metadata": {
    "collapsed": false
   }
  },
  {
   "cell_type": "markdown",
   "source": [],
   "metadata": {
    "collapsed": false,
    "pycharm": {
     "name": "#%% md\n"
    }
   }
  }
 ],
 "metadata": {
  "kernelspec": {
   "display_name": "Python 3",
   "language": "python",
   "name": "python3"
  },
  "language_info": {
   "codemirror_mode": {
    "name": "ipython",
    "version": 2
   },
   "file_extension": ".py",
   "mimetype": "text/x-python",
   "name": "python",
   "nbconvert_exporter": "python",
   "pygments_lexer": "ipython2",
   "version": "2.7.6"
  }
 },
 "nbformat": 4,
 "nbformat_minor": 0
}